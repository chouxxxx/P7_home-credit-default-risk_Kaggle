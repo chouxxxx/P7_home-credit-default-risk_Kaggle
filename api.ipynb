{
 "cells": [
  {
   "cell_type": "code",
   "execution_count": 1,
   "id": "399e9361-41ae-4d46-8c89-5f2ffa2837f3",
   "metadata": {},
   "outputs": [
    {
     "name": "stdout",
     "output_type": "stream",
     "text": [
      "Collecting fastapi\n",
      "  Downloading fastapi-0.89.1-py3-none-any.whl (55 kB)\n",
      "Collecting starlette==0.22.0\n",
      "  Downloading starlette-0.22.0-py3-none-any.whl (64 kB)\n",
      "Collecting pydantic!=1.7,!=1.7.1,!=1.7.2,!=1.7.3,!=1.8,!=1.8.1,<2.0.0,>=1.6.2\n",
      "  Downloading pydantic-1.10.4-cp39-cp39-win_amd64.whl (2.1 MB)\n",
      "Requirement already satisfied: typing-extensions>=3.10.0 in c:\\users\\achou\\anaconda3\\lib\\site-packages (from starlette==0.22.0->fastapi) (4.1.1)\n",
      "Requirement already satisfied: anyio<5,>=3.4.0 in c:\\users\\achou\\anaconda3\\lib\\site-packages (from starlette==0.22.0->fastapi) (3.5.0)\n",
      "Requirement already satisfied: sniffio>=1.1 in c:\\users\\achou\\anaconda3\\lib\\site-packages (from anyio<5,>=3.4.0->starlette==0.22.0->fastapi) (1.2.0)\n",
      "Requirement already satisfied: idna>=2.8 in c:\\users\\achou\\anaconda3\\lib\\site-packages (from anyio<5,>=3.4.0->starlette==0.22.0->fastapi) (3.3)\n",
      "Collecting typing-extensions>=3.10.0\n",
      "  Downloading typing_extensions-4.4.0-py3-none-any.whl (26 kB)\n",
      "Installing collected packages: typing-extensions, starlette, pydantic, fastapi\n",
      "  Attempting uninstall: typing-extensions\n",
      "    Found existing installation: typing-extensions 4.1.1\n",
      "    Uninstalling typing-extensions-4.1.1:\n",
      "      Successfully uninstalled typing-extensions-4.1.1\n",
      "Successfully installed fastapi-0.89.1 pydantic-1.10.4 starlette-0.22.0 typing-extensions-4.4.0\n",
      "Note: you may need to restart the kernel to use updated packages.\n"
     ]
    },
    {
     "name": "stderr",
     "output_type": "stream",
     "text": [
      "ERROR: pip's dependency resolver does not currently take into account all the packages that are installed. This behaviour is the source of the following dependency conflicts.\n",
      "tensorflow-intel 2.11.0 requires keras<2.12,>=2.11.0, but you have keras 2.10.0 which is incompatible.\n",
      "tensorflow-intel 2.11.0 requires tensorboard<2.12,>=2.11, but you have tensorboard 2.10.1 which is incompatible.\n",
      "tensorflow-intel 2.11.0 requires tensorflow-estimator<2.12,>=2.11.0, but you have tensorflow-estimator 2.10.0 which is incompatible.\n"
     ]
    }
   ],
   "source": [
    "#pip install fastapi"
   ]
  },
  {
   "cell_type": "code",
   "execution_count": 2,
   "id": "4fcd9946-8723-4038-92b4-f5b7fbb19470",
   "metadata": {},
   "outputs": [
    {
     "name": "stdout",
     "output_type": "stream",
     "text": [
      "Collecting uvicorn\n",
      "  Downloading uvicorn-0.20.0-py3-none-any.whl (56 kB)\n",
      "Requirement already satisfied: click>=7.0 in c:\\users\\achou\\anaconda3\\lib\\site-packages (from uvicorn) (8.0.4)\n",
      "Collecting h11>=0.8\n",
      "  Downloading h11-0.14.0-py3-none-any.whl (58 kB)\n",
      "Requirement already satisfied: colorama in c:\\users\\achou\\anaconda3\\lib\\site-packages (from click>=7.0->uvicorn) (0.4.4)\n",
      "Installing collected packages: h11, uvicorn\n",
      "Successfully installed h11-0.14.0 uvicorn-0.20.0\n",
      "Note: you may need to restart the kernel to use updated packages.\n"
     ]
    }
   ],
   "source": [
    "#pip install uvicorn"
   ]
  },
  {
   "cell_type": "code",
   "execution_count": 7,
   "id": "818367d9-1eff-479c-ba4b-205abf349350",
   "metadata": {},
   "outputs": [],
   "source": [
    "import uvicorn\n",
    "from fastapi import FastAPI\n",
    "import pickle"
   ]
  },
  {
   "cell_type": "code",
   "execution_count": 4,
   "id": "da35a539-1d62-42a5-b575-bf154ed51e99",
   "metadata": {},
   "outputs": [],
   "source": [
    "app = FastAPI()\n",
    "\n",
    "@app.post(\"/predict\")\n",
    "async def predict(input_data: dict):\n",
    "    # code to make predictions using the model goes here\n",
    "    return {\"prediction\": prediction}"
   ]
  },
  {
   "cell_type": "code",
   "execution_count": 6,
   "id": "918485d4-4870-4707-adcc-3fa472e8c522",
   "metadata": {},
   "outputs": [],
   "source": [
    "with open('model.pkl', 'rb') as f:\n",
    "    model = pickle.load(f)"
   ]
  },
  {
   "cell_type": "code",
   "execution_count": null,
   "id": "933a2498-6be4-40dd-a892-62d7c3975c54",
   "metadata": {},
   "outputs": [],
   "source": [
    "output = model.predict(input_data)"
   ]
  },
  {
   "cell_type": "code",
   "execution_count": null,
   "id": "937ec210-8363-4a07-9772-c427afc5545b",
   "metadata": {},
   "outputs": [],
   "source": [
    "# Commande du terminal pour call l'API\n",
    "# uvicorn main:app --reload"
   ]
  },
  {
   "cell_type": "code",
   "execution_count": null,
   "id": "b5f08870-044f-420b-8af8-95bbedac0878",
   "metadata": {},
   "outputs": [],
   "source": [
    "# Ensuite il faut send une POST request to the \"/predict\" endpoint with the\n",
    "# input data in the form of a JSON object."
   ]
  }
 ],
 "metadata": {
  "kernelspec": {
   "display_name": "Python 3 (ipykernel)",
   "language": "python",
   "name": "python3"
  },
  "language_info": {
   "codemirror_mode": {
    "name": "ipython",
    "version": 3
   },
   "file_extension": ".py",
   "mimetype": "text/x-python",
   "name": "python",
   "nbconvert_exporter": "python",
   "pygments_lexer": "ipython3",
   "version": "3.9.12"
  }
 },
 "nbformat": 4,
 "nbformat_minor": 5
}
